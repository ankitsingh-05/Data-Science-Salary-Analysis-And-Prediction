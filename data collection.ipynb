{
 "cells": [
  {
   "cell_type": "code",
   "execution_count": null,
   "id": "d8cbc7fa",
   "metadata": {},
   "outputs": [],
   "source": [
    "!pip install import_ipynb"
   ]
  },
  {
   "cell_type": "code",
   "execution_count": null,
   "id": "f31f4eb4",
   "metadata": {},
   "outputs": [],
   "source": [
    "import import_ipynb"
   ]
  },
  {
   "cell_type": "code",
   "execution_count": null,
   "id": "167984cc",
   "metadata": {},
   "outputs": [],
   "source": [
    "import glassdoor_scrapper as gsp"
   ]
  },
  {
   "cell_type": "code",
   "execution_count": null,
   "id": "0f8baf4a",
   "metadata": {},
   "outputs": [],
   "source": [
    "import pandas as pd"
   ]
  },
  {
   "cell_type": "code",
   "execution_count": null,
   "id": "d8b241a6",
   "metadata": {},
   "outputs": [],
   "source": [
    "path = 'C:/Users/ankit singh/Desktop/Data Science/Projects/Data Science Salary/chromedriver'\n",
    "# path = 'C:\\Users\\ankit singh\\Desktop\\Data Science\\Projects\\Data Science Salary\\chromedriver'"
   ]
  },
  {
   "cell_type": "code",
   "execution_count": null,
   "id": "c3bea341",
   "metadata": {},
   "outputs": [],
   "source": []
  },
  {
   "cell_type": "code",
   "execution_count": null,
   "id": "c45c36dc",
   "metadata": {},
   "outputs": [],
   "source": [
    "from importlib import reload"
   ]
  },
  {
   "cell_type": "code",
   "execution_count": null,
   "id": "cbf500dd",
   "metadata": {},
   "outputs": [],
   "source": [
    "reload(gsp)"
   ]
  },
  {
   "cell_type": "code",
   "execution_count": null,
   "id": "674f380c",
   "metadata": {},
   "outputs": [],
   "source": [
    "df = gsp.get_jobs('data scientist',1000, False, path, 15)"
   ]
  },
  {
   "cell_type": "code",
   "execution_count": null,
   "id": "e628f427",
   "metadata": {},
   "outputs": [],
   "source": []
  }
 ],
 "metadata": {
  "kernelspec": {
   "display_name": "Python 3 (ipykernel)",
   "language": "python",
   "name": "python3"
  },
  "language_info": {
   "codemirror_mode": {
    "name": "ipython",
    "version": 3
   },
   "file_extension": ".py",
   "mimetype": "text/x-python",
   "name": "python",
   "nbconvert_exporter": "python",
   "pygments_lexer": "ipython3",
   "version": "3.11.4"
  }
 },
 "nbformat": 4,
 "nbformat_minor": 5
}
